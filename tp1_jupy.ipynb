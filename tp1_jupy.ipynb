{
 "cells": [
  {
   "cell_type": "markdown",
   "metadata": {},
   "source": [
    "## Trabajo Practico de Python- 1er Parcial.\n",
    "\n",
    "## Alumna: Mereles, Juliana.\n",
    "\n",
    "## Profesor: Bogarin, Sebastian."
   ]
  },
  {
   "cell_type": "markdown",
   "metadata": {},
   "source": [
    "### 1). Ejercicio de algoritmia.\n",
    "\n",
    "#### Estás trabajando en un programa que procesa listas, pero te enfrentas al desafío de\n",
    "#### eliminar los elementos duplicados de una lista, manteniendo el orden original.\n",
    "\n",
    "### Especificaciones de la Función:\n",
    "#### Nombre de la función:\n",
    "#### ● El nombre de la función debe ser: eliminar_duplicados\n",
    "#### Parámetros:\n",
    "#### ● lista (list): Una lista que puede contener elementos duplicados.\n",
    "\n",
    "#### Retorno:\n",
    "#### ● list: Una nueva lista que contiene los elementos de la lista original sin\n",
    "#### duplicados, conservando el orden original.\n",
    "#### Ejemplo\n",
    "#### ● La función eliminar_duplicados toma la lista [1, 2, 3, 4, 4, 5, 6, 6, 7] como\n",
    "#### entrada y devuelve una nueva lista [1, 2, 3, 4, 5, 6, 7] sin elementos duplicados,\n",
    "#### manteniendo el orden original."
   ]
  },
  {
   "cell_type": "code",
   "execution_count": 3,
   "metadata": {},
   "outputs": [
    {
     "name": "stdout",
     "output_type": "stream",
     "text": [
      "[1, 2, 3, 4, 5, 6, 7]\n"
     ]
    }
   ],
   "source": [
    "def eliminar_duplicados(lista):\n",
    "    # * para almacenar los elementos unicos\n",
    "    # * El set() elimina los elementos duplicados de la lista.\n",
    "    elementos_unicos = set()\n",
    "    #se crea para almacenar los elementos unicos en el orden original\n",
    "    lista_sin_duplicados = []\n",
    "\n",
    "    # * recorre la lista original \n",
    "    for elemento in lista: \n",
    "        # *si el elemento no esta en el conjunto de elementos unicos, se le añade ala lista de duplicados\n",
    "        # *y se le agrega en el conjunto de elementos unicos.\n",
    "        if elemento not in elementos_unicos:\n",
    "            lista_sin_duplicados.append(elemento)\n",
    "            elementos_unicos.add(elemento)\n",
    "    return lista_sin_duplicados\n",
    "print(eliminar_duplicados([1, 2, 3, 4, 4, 5, 6, 6, 7]))\n",
    "# * tiene que devolver una nueva lista: [1, 2, 3, 4, 5, 6, 7], sin los elementos duplicados y en el mismo orden :)\n",
    "\n",
    "    "
   ]
  }
 ],
 "metadata": {
  "kernelspec": {
   "display_name": "venv",
   "language": "python",
   "name": "python3"
  },
  "language_info": {
   "codemirror_mode": {
    "name": "ipython",
    "version": 3
   },
   "file_extension": ".py",
   "mimetype": "text/x-python",
   "name": "python",
   "nbconvert_exporter": "python",
   "pygments_lexer": "ipython3",
   "version": "3.12.3"
  }
 },
 "nbformat": 4,
 "nbformat_minor": 2
}
