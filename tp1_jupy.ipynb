{
 "cells": [
  {
   "cell_type": "markdown",
   "metadata": {},
   "source": [
    "## Trabajo Practico de Python- 1er Parcial.\n",
    "\n",
    "## Alumno: Mereles, Juliana.\n",
    "\n",
    "## Profesor: Bogarin, Sebastian."
   ]
  }
 ],
 "metadata": {
  "language_info": {
   "name": "python"
  }
 },
 "nbformat": 4,
 "nbformat_minor": 2
}
