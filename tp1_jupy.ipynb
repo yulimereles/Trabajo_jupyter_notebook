{
 "cells": [
  {
   "cell_type": "markdown",
   "metadata": {},
   "source": [
    "## Trabajo Practico de Python- 1er Parcial.\n",
    "\n",
    "## Alumna: Mereles, Juliana.\n",
    "\n",
    "## Profesor: Bogarin, Sebastian."
   ]
  },
  {
   "cell_type": "markdown",
   "metadata": {},
   "source": [
    "### 1). Ejercicio de algoritmia.\n",
    "\n",
    "#### Estás trabajando en un programa que procesa listas, pero te enfrentas al desafío de\n",
    "#### eliminar los elementos duplicados de una lista, manteniendo el orden original.\n",
    "\n",
    "### Especificaciones de la Función:\n",
    "#### Nombre de la función:\n",
    "#### ● El nombre de la función debe ser: eliminar_duplicados\n",
    "#### Parámetros:\n",
    "#### ● lista (list): Una lista que puede contener elementos duplicados.\n",
    "\n",
    "#### Retorno:\n",
    "#### ● list: Una nueva lista que contiene los elementos de la lista original sin\n",
    "#### duplicados, conservando el orden original.\n",
    "#### Ejemplo\n",
    "#### ● La función eliminar_duplicados toma la lista [1, 2, 3, 4, 4, 5, 6, 6, 7] como\n",
    "#### entrada y devuelve una nueva lista [1, 2, 3, 4, 5, 6, 7] sin elementos duplicados,\n",
    "#### manteniendo el orden original."
   ]
  },
  {
   "cell_type": "code",
   "execution_count": 3,
   "metadata": {},
   "outputs": [
    {
     "name": "stdout",
     "output_type": "stream",
     "text": [
      "[1, 2, 3, 4, 5, 6, 7]\n"
     ]
    }
   ],
   "source": [
    "def eliminar_duplicados(lista):\n",
    "    # * para almacenar los elementos unicos\n",
    "    # * El set() elimina los elementos duplicados de la lista.\n",
    "    elementos_unicos = set()\n",
    "    #se crea para almacenar los elementos unicos en el orden original\n",
    "    lista_sin_duplicados = []\n",
    "\n",
    "    # * recorre la lista original \n",
    "    for elemento in lista: \n",
    "        # *si el elemento no esta en el conjunto de elementos unicos, se le añade ala lista de duplicados\n",
    "        # *y se le agrega en el conjunto de elementos unicos.\n",
    "        if elemento not in elementos_unicos:\n",
    "            lista_sin_duplicados.append(elemento)\n",
    "            elementos_unicos.add(elemento)\n",
    "    return lista_sin_duplicados\n",
    "print(eliminar_duplicados([1, 2, 3, 4, 4, 5, 6, 6, 7]))\n",
    "# * tiene que devolver una nueva lista: [1, 2, 3, 4, 5, 6, 7], sin los elementos duplicados y en el mismo orden :)\n",
    "\n",
    "    "
   ]
  },
  {
   "cell_type": "markdown",
   "metadata": {},
   "source": [
    "### Ejercicio de Pandas \n",
    "#### Se proporcionará una lista de calificaciones de los estudiantes y su tarea es realizar\n",
    "#### análisis estadístico y visualización de datos."
   ]
  },
  {
   "cell_type": "code",
   "execution_count": 6,
   "metadata": {},
   "outputs": [
    {
     "ename": "ModuleNotFoundError",
     "evalue": "No module named 'pandas'",
     "output_type": "error",
     "traceback": [
      "\u001b[1;31m---------------------------------------------------------------------------\u001b[0m",
      "\u001b[1;31mModuleNotFoundError\u001b[0m                       Traceback (most recent call last)",
      "Cell \u001b[1;32mIn[6], line 1\u001b[0m\n\u001b[1;32m----> 1\u001b[0m \u001b[38;5;28;01mimport\u001b[39;00m \u001b[38;5;21;01mpandas\u001b[39;00m \u001b[38;5;28;01mas\u001b[39;00m \u001b[38;5;21;01mpd\u001b[39;00m\n",
      "\u001b[1;31mModuleNotFoundError\u001b[0m: No module named 'pandas'"
     ]
    }
   ],
   "source": [
    "import pandas as pd\n",
    "\n",
    "# *Datos de calificaciones\n",
    "calificaciones = [\n",
    "    {\"nombre\": \"Juan\", \"matematicas\": 85, \"ciencias\": 90, \"historia\": 75},\n",
    "    {\"nombre\": \"María\", \"matematicas\": 70, \"ciencias\": 80, \"historia\": 85},\n",
    "    {\"nombre\": \"Pedro\", \"matematicas\": 95, \"ciencias\": 75, \"historia\": 90},\n",
    "    {\"nombre\": \"Ana\", \"matematicas\": 80, \"ciencias\": 85, \"historia\": 80},\n",
    "    {\"nombre\": \"Luis\", \"matematicas\": 75, \"ciencias\": 70, \"historia\": 95},\n",
    "    {\"nombre\": \"Sofía\", \"matematicas\": 90, \"ciencias\": 85, \"historia\": 75},\n",
    "    {\"nombre\": \"Carlos\", \"matematicas\": 85, \"ciencias\": 90, \"historia\": 80},\n",
    "    {\"nombre\": \"Elena\", \"matematicas\": 70, \"ciencias\": 75, \"historia\": 85},\n",
    "    {\"nombre\": \"Javier\", \"matematicas\": 80, \"ciencias\": 85, \"historia\": 90},\n",
    "    {\"nombre\": \"Laura\", \"matematicas\": 75, \"ciencias\": 70, \"historia\": 95},\n",
    "    {\"nombre\": \"Diego\", \"matematicas\": 90, \"ciencias\": 85, \"historia\": 75},\n",
    "    {\"nombre\": \"Paula\", \"matematicas\": 85, \"ciencias\": 90, \"historia\": 80},\n",
    "    {\"nombre\": \"Carmen\", \"matematicas\": 70, \"ciencias\": 75, \"historia\": 85}\n",
    "]\n"
   ]
  }
 ],
 "metadata": {
  "kernelspec": {
   "display_name": "venv",
   "language": "python",
   "name": "python3"
  },
  "language_info": {
   "codemirror_mode": {
    "name": "ipython",
    "version": 3
   },
   "file_extension": ".py",
   "mimetype": "text/x-python",
   "name": "python",
   "nbconvert_exporter": "python",
   "pygments_lexer": "ipython3",
   "version": "3.12.3"
  }
 },
 "nbformat": 4,
 "nbformat_minor": 2
}
